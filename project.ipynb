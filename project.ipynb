{
 "cells": [
  {
   "cell_type": "code",
   "execution_count": 10,
   "metadata": {},
   "outputs": [],
   "source": [
    "import pandas as pd\n",
    "import os\n",
    "\n",
    "year_path = '2020'\n",
    "directory = f'grouped/{year_path}'\n",
    "if not os.path.exists(directory):\n",
    "    os.makedirs(directory)\n",
    "\n",
    "def calculate_week_number(date):\n",
    "    first_day_of_year = pd.Timestamp(year=date.year, month=1, day=1)\n",
    "    first_day_weekday = first_day_of_year.weekday() \n",
    "\n",
    "    if first_day_weekday in [0, 1, 2]:  \n",
    "        return date.strftime('%W')\n",
    "    else:  \n",
    "        week_num = int(date.strftime('%W')) - 1\n",
    "        return max(week_num, 0)  \n",
    "    "
   ]
  },
  {
   "cell_type": "code",
   "execution_count": 11,
   "metadata": {},
   "outputs": [],
   "source": [
    "for i in range(1,13):\n",
    "    if i < 10:\n",
    "        i = f'0{i}'\n",
    "    file_s = f'Sales/{year_path}/sales_{year_path}_{i}.csv'\n",
    "    df = pd.read_csv(file_s, delimiter=';', engine='pyarrow', dtype_backend='pyarrow', dtype={'CARD': 'string[pyarrow]'})\n",
    "\n",
    "    df['DATE'] = pd.to_datetime(df['DATE'], format='%d.%m.%Y')\n",
    "    df['QUANTITY'] = df['QUANTITY'].astype(str).str.replace(',', '.').astype('float32[pyarrow]')\n",
    "    df['AMOUNT'] = df['AMOUNT'].astype(str).str.replace(',', '.').astype('float32[pyarrow]')\n",
    "    df['GROSSAMOUNT'] = df['GROSSAMOUNT'].astype(str).str.replace(',', '.').astype('float32[pyarrow]')\n",
    "    df['BONUSES_SPENT'] = df['GROSSAMOUNT'] - df['AMOUNT']\n",
    "\n",
    "    df = df.groupby(['DATE', 'PRODUCT', 'BONUSES_SPENT', 'GROSSAMOUNT', 'AMOUNT']).agg({'QUANTITY': 'sum'}).reset_index()\n",
    "    df = df.rename(columns={'PRODUCT': 'PRODUCT_GUID', 'GROSSAMOUNT': 'COST (without bonuses)'})\n",
    "\n",
    "    nom = pd.read_csv('Products.csv', delimiter=';', engine='pyarrow', dtype_backend='pyarrow')\n",
    "    nom = nom.drop('DIRECTION', axis=1)\n",
    "    nom = nom.drop('ZONE', axis=1)\n",
    "    nom = nom.drop('BRAND', axis=1)\n",
    "    nom = nom.rename(columns={'GUID': 'PRODUCT_GUID'})\n",
    "\n",
    "    lst_merged_df = df.set_index('PRODUCT_GUID').join(nom.set_index('PRODUCT_GUID'))\n",
    "    lst_merged_df = lst_merged_df.reset_index()\n",
    "    lst_merged_df['Week day'] = lst_merged_df['DATE'].dt.strftime('%a')\n",
    "    lst_merged_df['Week number'] = lst_merged_df['DATE'].apply(calculate_week_number).astype(int)\n",
    "\n",
    "\n",
    "    lst_merged_df['Month number'] = lst_merged_df['DATE'].dt.month\n",
    "    lst_merged_df.drop(columns=['PRODUCT_GUID'], inplace=True)\n",
    "\n",
    "    desired_order = ['DATE', 'Week number','Month number', 'Week day', 'BONUSES_SPENT','COST (without bonuses)','AMOUNT','QUANTITY','PRODUCT','CATEGORY','SUBCATEGORY']\n",
    "    lst_merged_df = lst_merged_df[desired_order]\n",
    "\n",
    "    subcategory_grouped_df = lst_merged_df.groupby(['DATE', 'CATEGORY', 'SUBCATEGORY', 'Week number', 'Month number', 'Week day']).agg({\n",
    "        'QUANTITY': 'sum',\n",
    "        'BONUSES_SPENT': 'sum',\n",
    "        'COST (without bonuses)': 'sum'\n",
    "    }).reset_index()\n",
    "\n",
    "    subcategory_grouped_df[\"BONUSES_RECIVE\"] = subcategory_grouped_df[\"COST (without bonuses)\"] * 0.025\n",
    "    subcategory_grouped_df[\"BONUSES_RECIVE\"] = subcategory_grouped_df[\"BONUSES_RECIVE\"].apply(lambda x: '{:.2f}'.format(x))\n",
    "    subcategory_grouped_df.to_csv(f'grouped/{year_path}/grouped_by_subcat_{i}_{year_path}.csv', index=False)\n"
   ]
  },
  {
   "cell_type": "code",
   "execution_count": 12,
   "metadata": {},
   "outputs": [],
   "source": [
    "df = pd.read_csv(f'grouped/{year_path}\\grouped_by_subcat_01_{year_path}.csv', delimiter=',', engine='pyarrow', dtype_backend='pyarrow',  dtype={'CARD': 'string[pyarrow]'})\n",
    "for i in range(2,13):\n",
    "    if i < 10:\n",
    "        i = f'0{i}'\n",
    "    file_s = f'grouped/{year_path}/grouped_by_subcat_{i}_{year_path}.csv'\n",
    "    df = pd.concat([df, pd.read_csv(file_s, delimiter=',', engine='pyarrow', dtype_backend='pyarrow',  dtype={'CARD': 'string[pyarrow]'})], ignore_index=True)\n",
    "\n",
    "df_sorted = df.sort_values(by=['CATEGORY', 'SUBCATEGORY', 'Week number'])\n",
    "df_sorted.to_csv(f'grouped/{year_path}/grouped_by_subcat_{year_path}.csv', index=False)\n"
   ]
  }
 ],
 "metadata": {
  "kernelspec": {
   "display_name": "Python 3",
   "language": "python",
   "name": "python3"
  },
  "language_info": {
   "codemirror_mode": {
    "name": "ipython",
    "version": 3
   },
   "file_extension": ".py",
   "mimetype": "text/x-python",
   "name": "python",
   "nbconvert_exporter": "python",
   "pygments_lexer": "ipython3",
   "version": "3.11.9"
  }
 },
 "nbformat": 4,
 "nbformat_minor": 2
}
