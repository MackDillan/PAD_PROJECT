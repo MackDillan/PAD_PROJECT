{
 "cells": [
  {
   "cell_type": "code",
   "execution_count": 1,
   "metadata": {},
   "outputs": [
    {
     "name": "stdout",
     "output_type": "stream",
     "text": [
      "        DATE    CATEGORY SUBCATEGORY  Week number  Month number Week day  \\\n",
      "0 2023-01-03  3D Принтер  3D Принтер            0             1      Tue   \n",
      "1 2023-01-04  3D Принтер  3D Принтер            0             1      Wed   \n",
      "2 2023-01-05  3D Принтер  3D Принтер            0             1      Thu   \n",
      "3 2023-01-06  3D Принтер  3D Принтер            0             1      Fri   \n",
      "4 2023-01-09  3D Принтер  3D Принтер            1             1      Mon   \n",
      "\n",
      "   QUANTITY  BONUSES_SPENT  COST (without bonuses)  BONUSES_RECIVE  \n",
      "0       1.0       0.000000              641.431900           16.04  \n",
      "1       1.0       0.000000              498.400000           12.46  \n",
      "2       1.0     -49.083496              492.926500           12.32  \n",
      "3       0.0     -75.026980              -25.943481           -0.65  \n",
      "4       2.0     -26.700012             1235.320100           30.88  \n"
     ]
    }
   ],
   "source": [
    "import pandas as pd\n",
    "\n",
    "df = pd.read_csv(f'grouped/2023/grouped_by_subcat_2023.csv', encoding='UTF-8')\n",
    "df['DATE'] = pd.to_datetime(df['DATE'])\n",
    "print(df.head())\n"
   ]
  },
  {
   "cell_type": "code",
   "execution_count": null,
   "metadata": {},
   "outputs": [],
   "source": [
    "sales_by_subcategory = df.groupby('SUBCATEGORY')['QUANTITY'].sum().reset_index()\n",
    "\n",
    "top_20_lowest_sales = sales_by_subcategory.sort_values(by='QUANTITY').head(20)\n",
    "top_20_highest_sales = sales_by_subcategory.sort_values(by='QUANTITY', ascending=False).head(20)\n"
   ]
  },
  {
   "cell_type": "code",
   "execution_count": null,
   "metadata": {},
   "outputs": [],
   "source": [
    "print(\"20 самых малопроданных подкатегорий:\")\n",
    "print(top_20_lowest_sales)"
   ]
  },
  {
   "cell_type": "code",
   "execution_count": null,
   "metadata": {},
   "outputs": [],
   "source": [
    "print(\"\\n20 самых высокопродаваемых подкатегорий:\")\n",
    "print(top_20_highest_sales)"
   ]
  },
  {
   "cell_type": "code",
   "execution_count": null,
   "metadata": {},
   "outputs": [],
   "source": [
    "df['RETURN'] = df['QUANTITY'] < 0\n",
    "\n",
    "return_percentage_by_subcategory = df[df['RETURN']].groupby('SUBCATEGORY')['QUANTITY'].count() / df.groupby('SUBCATEGORY')['QUANTITY'].count() * 100\n",
    "return_percentage_by_subcategory = return_percentage_by_subcategory.fillna(0) \n",
    "\n",
    "top_5_highest_return = return_percentage_by_subcategory.sort_values(ascending=False).head(5)\n",
    "\n",
    "print(\"\\nПодкатегории с наибольшим процентом возвратов:\")\n",
    "print(top_5_highest_return)\n"
   ]
  },
  {
   "cell_type": "code",
   "execution_count": null,
   "metadata": {},
   "outputs": [],
   "source": [
    "profit_by_subcategory = df.groupby('SUBCATEGORY')['COST (without bonuses)'].sum().reset_index()\n",
    "top_5_most_profitable = profit_by_subcategory.sort_values(by='COST (without bonuses)', ascending=False).head(5)\n",
    "\n",
    "for index, row in top_5_most_profitable.iterrows():\n",
    "    print(f\"{row['SUBCATEGORY']}: {row['COST (without bonuses)']:,.2f}\")"
   ]
  },
  {
   "cell_type": "code",
   "execution_count": 2,
   "metadata": {},
   "outputs": [
    {
     "name": "stdout",
     "output_type": "stream",
     "text": [
      "\n",
      "Лучшие продажи с 1 по 10 марта:\n",
      "                            SUBCATEGORY  QUANTITY\n",
      "369               Пакеты полиэтиленовые    8736.0\n",
      "381                       Печи СВЧ соло    7025.0\n",
      "510                           Смартфоны    5961.0\n",
      "338  Наушники беспроводные вкладыши TWS    5132.0\n",
      "535          Стиральные машины 40-49 см    4941.0\n",
      "\n",
      "Лучшие продажи с 15 по 25 февраля:\n",
      "                    SUBCATEGORY  QUANTITY\n",
      "458   Пылесосы без пылесборника   12288.0\n",
      "367       Пакеты полиэтиленовые    7906.0\n",
      "462    Пылесосы с пылесборником    6809.0\n",
      "528  Стиральные машины 40-49 см    6622.0\n",
      "507                   Смартфоны    5884.0\n",
      "\n",
      "Лучшие продажи с 20 по 31 декабря:\n",
      "                            SUBCATEGORY  QUANTITY\n",
      "571                           Смартфоны   22807.0\n",
      "613            Сувенирная продукция Д5Д   17107.0\n",
      "374  Наушники беспроводные вкладыши TWS   12635.0\n",
      "80    Беспроводные акустические системы   10228.0\n",
      "166                            Доставка    6776.0\n"
     ]
    }
   ],
   "source": [
    "sales_march_1_to_10 = df[(df['DATE'] >= '2023-03-01') & (df['DATE'] <= '2023-03-10')]\n",
    "sales_feb_15_to_25 = df[(df['DATE'] >= '2023-02-15') & (df['DATE'] <= '2023-02-25')]\n",
    "sales_dec_20_to_31 = df[(df['DATE'] >= '2023-12-20') & (df['DATE'] <= '2023-12-31')]\n",
    "\n",
    "sales_march_1_to_10_by_subcategory = sales_march_1_to_10.groupby('SUBCATEGORY')['QUANTITY'].sum().reset_index()\n",
    "sales_feb_15_to_25_by_subcategory = sales_feb_15_to_25.groupby('SUBCATEGORY')['QUANTITY'].sum().reset_index()\n",
    "sales_dec_20_to_31_by_subcategory = sales_dec_20_to_31.groupby('SUBCATEGORY')['QUANTITY'].sum().reset_index()\n",
    "\n",
    "\n",
    "print(\"\\nЛучшие продажи с 1 по 10 марта:\")\n",
    "print(sales_march_1_to_10_by_subcategory.nlargest(5, 'QUANTITY'))\n",
    "print(\"\\nЛучшие продажи с 15 по 25 февраля:\")\n",
    "print(sales_feb_15_to_25_by_subcategory.nlargest(5, 'QUANTITY'))\n",
    "print(\"\\nЛучшие продажи с 20 по 31 декабря:\")\n",
    "print(sales_dec_20_to_31_by_subcategory.nlargest(5, 'QUANTITY'))\n"
   ]
  },
  {
   "cell_type": "code",
   "execution_count": 3,
   "metadata": {},
   "outputs": [
    {
     "name": "stdout",
     "output_type": "stream",
     "text": [
      "\n",
      "Лучшие продажи с 1 по 10 марта по прибыли:\n",
      "                                   SUBCATEGORY  COST (without bonuses)\n",
      "535                 Стиральные машины 40-49 см             3477470.614\n",
      "510                                  Смартфоны             3449049.380\n",
      "569                         Телевизоры 55-60''             1827131.183\n",
      "381                              Печи СВЧ соло             1824515.316\n",
      "654  Холодильники с нижней морозильной камерой             1762423.770\n",
      "\n",
      "Лучшие продажи с 15 по 25 февраля по прибыли:\n",
      "                                   SUBCATEGORY  COST (without bonuses)\n",
      "528                 Стиральные машины 40-49 см             4388258.645\n",
      "458                  Пылесосы без пылесборника             3113907.064\n",
      "507                                  Смартфоны             2745991.430\n",
      "646  Холодильники с нижней морозильной камерой             1999942.140\n",
      "565                         Телевизоры 55-60''             1741450.335\n",
      "\n",
      "Лучшие продажи с 20 по 31 декабря по прибыли:\n",
      "                                   SUBCATEGORY  COST (without bonuses)\n",
      "571                                  Смартфоны              8242273.86\n",
      "717  Холодильники с нижней морозильной камерой              2875227.78\n",
      "601                 Стиральные машины 40-49 см              2239356.85\n",
      "388                                    Ноутбук              1916638.89\n",
      "635                         Телевизоры 55-60''              1811778.00\n"
     ]
    }
   ],
   "source": [
    "sales_march_1_to_10_by_subcategory = sales_march_1_to_10.groupby('SUBCATEGORY')['COST (without bonuses)'].sum().reset_index()\n",
    "sales_feb_15_to_25_by_subcategory = sales_feb_15_to_25.groupby('SUBCATEGORY')['COST (without bonuses)'].sum().reset_index()\n",
    "sales_dec_20_to_31_by_subcategory = sales_dec_20_to_31.groupby('SUBCATEGORY')['COST (without bonuses)'].sum().reset_index()\n",
    "\n",
    "print(\"\\nЛучшие продажи с 1 по 10 марта по прибыли:\")\n",
    "print(sales_march_1_to_10_by_subcategory.nlargest(5, 'COST (without bonuses)'))\n",
    "print(\"\\nЛучшие продажи с 15 по 25 февраля по прибыли:\")\n",
    "print(sales_feb_15_to_25_by_subcategory.nlargest(5, 'COST (without bonuses)'))\n",
    "print(\"\\nЛучшие продажи с 20 по 31 декабря по прибыли:\")\n",
    "print(sales_dec_20_to_31_by_subcategory.nlargest(5, 'COST (without bonuses)'))\n"
   ]
  }
 ],
 "metadata": {
  "kernelspec": {
   "display_name": "Python 3",
   "language": "python",
   "name": "python3"
  },
  "language_info": {
   "codemirror_mode": {
    "name": "ipython",
    "version": 3
   },
   "file_extension": ".py",
   "mimetype": "text/x-python",
   "name": "python",
   "nbconvert_exporter": "python",
   "pygments_lexer": "ipython3",
   "version": "3.11.9"
  }
 },
 "nbformat": 4,
 "nbformat_minor": 2
}
